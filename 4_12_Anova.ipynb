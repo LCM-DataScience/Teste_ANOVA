{
 "cells": [
  {
   "cell_type": "markdown",
   "metadata": {
    "id": "IkBO2EHuPuxg"
   },
   "source": [
    "## **Análise de variância (Anova)**"
   ]
  },
  {
   "cell_type": "markdown",
   "metadata": {
    "id": "sMBN0uhxj1gz"
   },
   "source": [
    "É baseado na análise da variância, daí o nome ANOVA (Analysis Of Variance)  \n",
    "Este teste compara médias de três ou mais grupos independentes para determinar se há diferenças significativas entre eles.  \n",
    "Ele assume que os dados seguem uma distribuição normal e que as variâncias entre os grupos são iguais (homocedasticidade).  \n",
    "Se o resultado do teste ANOVA indica uma diferença significativa entre os grupos, pode-se concluir que pelo menos um dos grupos difere dos demais.  \n",
    "No entanto, o teste ANOVA por si só não identifica quais grupos são diferentes, sendo necessário realizar testes post hoc para essa finalidade."
   ]
  },
  {
   "cell_type": "markdown",
   "metadata": {
    "id": "BgcoTek2PCOI"
   },
   "source": [
    "### **Data prep**"
   ]
  },
  {
   "cell_type": "markdown",
   "metadata": {
    "id": "jdQRHSvzV_lP"
   },
   "source": [
    "Organização do banco de dados de Dividend Yield por setor do IBOV, considerando o perído de tempo da comparação."
   ]
  },
  {
   "cell_type": "code",
   "execution_count": 1,
   "metadata": {
    "id": "m1nHM8xIAH3j"
   },
   "outputs": [],
   "source": [
    "import pandas as pd\n",
    "import yfinance as yf\n",
    "from scipy import stats\n",
    "import plotly.graph_objects as go\n",
    "from statsmodels.stats.multicomp import pairwise_tukeyhsd"
   ]
  },
  {
   "cell_type": "markdown",
   "metadata": {
    "id": "uGCRbeuYBUsj"
   },
   "source": [
    "Dicionário para armazenar os ativos e setores do IBOV"
   ]
  },
  {
   "cell_type": "code",
   "execution_count": 2,
   "metadata": {
    "id": "2ejDPnYqBqx0"
   },
   "outputs": [],
   "source": [
    "ativos_setor_IBOV = {\n",
    "    \"AZUL4\": \"Bens_industriais\", \"CCRO3\": \"Bens_industriais\", \"ECOR3\": \"Bens_industriais\", \"EMBR3\": \"Bens_industriais\", \"GOLL4\": \"Bens_industriais\", \"RAIL3\": \"Bens_industriais\", \"WEGE3\": \"Bens_industriais\",\n",
    "    \"ALPA4\": \"Consumo_ciclico\", \"ARZZ3\": \"Consumo_ciclico\", \"CVCB3\": \"Consumo_ciclico\", \"CYRE3\": \"Consumo_ciclico\", \"EZTC3\": \"Consumo_ciclico\", \"LREN3\": \"Consumo_ciclico\", \"MGLU3\": \"Consumo_ciclico\",\n",
    "    \"MRVE3\": \"Consumo_ciclico\", \"PETZ3\": \"Consumo_ciclico\", \"SOMA3\": \"Consumo_ciclico\", \"AMER3\": \"Consumo_ciclico\", \"ABEV3\": \"Consumo_nao_ciclico\", \"ASAI3\": \"Consumo_nao_ciclico\", \"BEEF3\": \"Consumo_nao_ciclico\",\n",
    "    \"BRFS3\": \"Consumo_nao_ciclico\", \"CRFB3\": \"Consumo_nao_ciclico\", \"JBSS3\": \"Consumo_nao_ciclico\", \"MRFG3\": \"Consumo_nao_ciclico\", \"NTCO3\": \"Consumo_nao_ciclico\", \"PCAR3\": \"Consumo_nao_ciclico\",\n",
    "    \"RAIZ4\": \"Consumo_nao_ciclico\", \"SLCE3\": \"Consumo_nao_ciclico\", \"SMTO3\": \"Consumo_nao_ciclico\", \"BBSE3\": \"Financeiro_e_outros\", \"B3SA3\": \"Financeiro_e_outros\", \"BBAS3\": \"Financeiro_e_outros\",\n",
    "    \"BBDC3\": \"Financeiro_e_outros\", \"BBDC4\": \"Financeiro_e_outros\", \"BPAC11\": \"Financeiro_e_outros\", \"BPAN4\": \"Financeiro_e_outros\", \"CIEL3\": \"Financeiro_e_outros\", \"IGTI11\": \"Financeiro_e_outros\",\n",
    "    \"ITSA4\": \"Financeiro_e_outros\", \"ITUB4\": \"Financeiro_e_outros\", \"MULT3\": \"Financeiro_e_outros\", \"SANB11\": \"Financeiro_e_outros\", \"BRAP4\": \"Mats_basicos\", \"BRKM5\": \"Mats_basicos\", \"CMIN3\": \"Mats_basicos\",\n",
    "    \"CSNA3\": \"Mats_basicos\", \"DXCO3\": \"Mats_basicos\", \"GGBR4\": \"Mats_basicos\", \"GOAU4\": \"Mats_basicos\", \"KLBN11\": \"Mats_basicos\", \"SUZB3\": \"Mats_basicos\", \"USIM5\": \"Mats_basicos\", \"VALE3\": \"Mats_basicos\",\n",
    "    \"CSAN3\": \"Petroleo_gas_biocombustiveis\", \"PETR3\": \"Petroleo_gas_biocombustiveis\", \"PETR4\": \"Petroleo_gas_biocombustiveis\", \"PRIO3\": \"Petroleo_gas_biocombustiveis\", \"RRRP3\": \"Petroleo_gas_biocombustiveis\",\n",
    "    \"UGPA3\": \"Petroleo_gas_biocombustiveis\", \"VBBR3\": \"Petroleo_gas_biocombustiveis\", \"FLRY3\": \"Saude\", \"HAPV3\": \"Saude\", \"HYPE3\": \"Saude\", \"QUAL3\": \"Saude\", \"RADL3\": \"Saude\", \"RDOR3\": \"Saude\", \"CMIG4\": \"Utilidade_publica\",\n",
    "    \"CPFE3\": \"Utilidade_publica\", \"CPLE6\": \"Utilidade_publica\", \"EGIE3\": \"Utilidade_publica\", \"ELET3\": \"Utilidade_publica\", \"ELET6\": \"Utilidade_publica\", \"ENEV3\": \"Utilidade_publica\", \"ENGI11\": \"Utilidade_publica\",\n",
    "    \"EQTL3\": \"Utilidade_publica\", \"SBSP3\": \"Utilidade_publica\", \"TAEE11\": \"Utilidade_publica\"\n",
    "}"
   ]
  },
  {
   "cell_type": "code",
   "execution_count": 3,
   "metadata": {
    "colab": {
     "base_uri": "https://localhost:8080/"
    },
    "id": "sOo3B4p_BS9E",
    "outputId": "e72c84ad-9601-45b5-a92c-cb67df0c2388"
   },
   "outputs": [],
   "source": [
    "lista_ativos = list(ativos_setor_IBOV.keys())\n",
    "lista_ativos_yf = [lista_ativos + '.SA' for lista_ativos in lista_ativos]"
   ]
  },
  {
   "cell_type": "code",
   "execution_count": 4,
   "metadata": {
    "colab": {
     "base_uri": "https://localhost:8080/"
    },
    "id": "lwwUqqEtBS10",
    "outputId": "a7253732-6a80-40ee-9ac3-38744196d97d"
   },
   "outputs": [
    {
     "name": "stderr",
     "output_type": "stream",
     "text": [
      "[*********************100%%**********************]  78 of 78 completed\n"
     ]
    }
   ],
   "source": [
    "df_dados = yf.download(lista_ativos_yf, actions=True, start='2023-01-01', end='2024-07-31')[['Close', 'Dividends']]"
   ]
  },
  {
   "cell_type": "code",
   "execution_count": 5,
   "metadata": {
    "colab": {
     "base_uri": "https://localhost:8080/",
     "height": 724
    },
    "id": "1wq7rVj9BSuU",
    "outputId": "9183c273-fc9f-45a2-dee0-87df103e86a8"
   },
   "outputs": [
    {
     "data": {
      "text/html": [
       "<div>\n",
       "<style scoped>\n",
       "    .dataframe tbody tr th:only-of-type {\n",
       "        vertical-align: middle;\n",
       "    }\n",
       "\n",
       "    .dataframe tbody tr th {\n",
       "        vertical-align: top;\n",
       "    }\n",
       "\n",
       "    .dataframe thead tr th {\n",
       "        text-align: left;\n",
       "    }\n",
       "\n",
       "    .dataframe thead tr:last-of-type th {\n",
       "        text-align: right;\n",
       "    }\n",
       "</style>\n",
       "<table border=\"1\" class=\"dataframe\">\n",
       "  <thead>\n",
       "    <tr>\n",
       "      <th>Price</th>\n",
       "      <th colspan=\"10\" halign=\"left\">Close</th>\n",
       "      <th>...</th>\n",
       "      <th colspan=\"10\" halign=\"left\">Dividends</th>\n",
       "    </tr>\n",
       "    <tr>\n",
       "      <th>Ticker</th>\n",
       "      <th>ABEV3.SA</th>\n",
       "      <th>ALPA4.SA</th>\n",
       "      <th>AMER3.SA</th>\n",
       "      <th>ARZZ3.SA</th>\n",
       "      <th>ASAI3.SA</th>\n",
       "      <th>AZUL4.SA</th>\n",
       "      <th>B3SA3.SA</th>\n",
       "      <th>BBAS3.SA</th>\n",
       "      <th>BBDC3.SA</th>\n",
       "      <th>BBDC4.SA</th>\n",
       "      <th>...</th>\n",
       "      <th>SLCE3.SA</th>\n",
       "      <th>SMTO3.SA</th>\n",
       "      <th>SOMA3.SA</th>\n",
       "      <th>SUZB3.SA</th>\n",
       "      <th>TAEE11.SA</th>\n",
       "      <th>UGPA3.SA</th>\n",
       "      <th>USIM5.SA</th>\n",
       "      <th>VALE3.SA</th>\n",
       "      <th>VBBR3.SA</th>\n",
       "      <th>WEGE3.SA</th>\n",
       "    </tr>\n",
       "    <tr>\n",
       "      <th>Date</th>\n",
       "      <th></th>\n",
       "      <th></th>\n",
       "      <th></th>\n",
       "      <th></th>\n",
       "      <th></th>\n",
       "      <th></th>\n",
       "      <th></th>\n",
       "      <th></th>\n",
       "      <th></th>\n",
       "      <th></th>\n",
       "      <th></th>\n",
       "      <th></th>\n",
       "      <th></th>\n",
       "      <th></th>\n",
       "      <th></th>\n",
       "      <th></th>\n",
       "      <th></th>\n",
       "      <th></th>\n",
       "      <th></th>\n",
       "      <th></th>\n",
       "      <th></th>\n",
       "    </tr>\n",
       "  </thead>\n",
       "  <tbody>\n",
       "    <tr>\n",
       "      <th>2023-01-02</th>\n",
       "      <td>14.19</td>\n",
       "      <td>14.33</td>\n",
       "      <td>9.03</td>\n",
       "      <td>74.120003</td>\n",
       "      <td>18.990000</td>\n",
       "      <td>10.30</td>\n",
       "      <td>12.25</td>\n",
       "      <td>16.629999</td>\n",
       "      <td>13.19</td>\n",
       "      <td>14.75</td>\n",
       "      <td>...</td>\n",
       "      <td>0.0</td>\n",
       "      <td>0.000000</td>\n",
       "      <td>0.0</td>\n",
       "      <td>0.0</td>\n",
       "      <td>0.0</td>\n",
       "      <td>0.0</td>\n",
       "      <td>0.0</td>\n",
       "      <td>0.0</td>\n",
       "      <td>0.0</td>\n",
       "      <td>0.0</td>\n",
       "    </tr>\n",
       "    <tr>\n",
       "      <th>2023-01-03</th>\n",
       "      <td>14.17</td>\n",
       "      <td>13.40</td>\n",
       "      <td>8.52</td>\n",
       "      <td>71.809998</td>\n",
       "      <td>18.610001</td>\n",
       "      <td>10.16</td>\n",
       "      <td>11.84</td>\n",
       "      <td>16.320000</td>\n",
       "      <td>12.55</td>\n",
       "      <td>14.00</td>\n",
       "      <td>...</td>\n",
       "      <td>0.0</td>\n",
       "      <td>0.000000</td>\n",
       "      <td>0.0</td>\n",
       "      <td>0.0</td>\n",
       "      <td>0.0</td>\n",
       "      <td>0.0</td>\n",
       "      <td>0.0</td>\n",
       "      <td>0.0</td>\n",
       "      <td>0.0</td>\n",
       "      <td>0.0</td>\n",
       "    </tr>\n",
       "    <tr>\n",
       "      <th>2023-01-04</th>\n",
       "      <td>14.25</td>\n",
       "      <td>13.49</td>\n",
       "      <td>8.73</td>\n",
       "      <td>73.459999</td>\n",
       "      <td>19.080000</td>\n",
       "      <td>10.56</td>\n",
       "      <td>11.93</td>\n",
       "      <td>16.530001</td>\n",
       "      <td>12.66</td>\n",
       "      <td>14.04</td>\n",
       "      <td>...</td>\n",
       "      <td>0.0</td>\n",
       "      <td>0.000000</td>\n",
       "      <td>0.0</td>\n",
       "      <td>0.0</td>\n",
       "      <td>0.0</td>\n",
       "      <td>0.0</td>\n",
       "      <td>0.0</td>\n",
       "      <td>0.0</td>\n",
       "      <td>0.0</td>\n",
       "      <td>0.0</td>\n",
       "    </tr>\n",
       "    <tr>\n",
       "      <th>2023-01-05</th>\n",
       "      <td>14.29</td>\n",
       "      <td>13.86</td>\n",
       "      <td>9.69</td>\n",
       "      <td>74.339996</td>\n",
       "      <td>18.980000</td>\n",
       "      <td>11.55</td>\n",
       "      <td>12.30</td>\n",
       "      <td>17.285000</td>\n",
       "      <td>13.07</td>\n",
       "      <td>14.65</td>\n",
       "      <td>...</td>\n",
       "      <td>0.0</td>\n",
       "      <td>0.000000</td>\n",
       "      <td>0.0</td>\n",
       "      <td>0.0</td>\n",
       "      <td>0.0</td>\n",
       "      <td>0.0</td>\n",
       "      <td>0.0</td>\n",
       "      <td>0.0</td>\n",
       "      <td>0.0</td>\n",
       "      <td>0.0</td>\n",
       "    </tr>\n",
       "    <tr>\n",
       "      <th>2023-01-06</th>\n",
       "      <td>14.32</td>\n",
       "      <td>13.87</td>\n",
       "      <td>10.41</td>\n",
       "      <td>75.800003</td>\n",
       "      <td>19.040001</td>\n",
       "      <td>11.84</td>\n",
       "      <td>12.59</td>\n",
       "      <td>17.525000</td>\n",
       "      <td>13.42</td>\n",
       "      <td>15.06</td>\n",
       "      <td>...</td>\n",
       "      <td>0.0</td>\n",
       "      <td>0.000000</td>\n",
       "      <td>0.0</td>\n",
       "      <td>0.0</td>\n",
       "      <td>0.0</td>\n",
       "      <td>0.0</td>\n",
       "      <td>0.0</td>\n",
       "      <td>0.0</td>\n",
       "      <td>0.0</td>\n",
       "      <td>0.0</td>\n",
       "    </tr>\n",
       "    <tr>\n",
       "      <th>...</th>\n",
       "      <td>...</td>\n",
       "      <td>...</td>\n",
       "      <td>...</td>\n",
       "      <td>...</td>\n",
       "      <td>...</td>\n",
       "      <td>...</td>\n",
       "      <td>...</td>\n",
       "      <td>...</td>\n",
       "      <td>...</td>\n",
       "      <td>...</td>\n",
       "      <td>...</td>\n",
       "      <td>...</td>\n",
       "      <td>...</td>\n",
       "      <td>...</td>\n",
       "      <td>...</td>\n",
       "      <td>...</td>\n",
       "      <td>...</td>\n",
       "      <td>...</td>\n",
       "      <td>...</td>\n",
       "      <td>...</td>\n",
       "      <td>...</td>\n",
       "    </tr>\n",
       "    <tr>\n",
       "      <th>2024-07-24</th>\n",
       "      <td>11.79</td>\n",
       "      <td>8.53</td>\n",
       "      <td>0.76</td>\n",
       "      <td>51.700001</td>\n",
       "      <td>10.000000</td>\n",
       "      <td>7.82</td>\n",
       "      <td>11.03</td>\n",
       "      <td>26.870001</td>\n",
       "      <td>11.37</td>\n",
       "      <td>12.55</td>\n",
       "      <td>...</td>\n",
       "      <td>0.0</td>\n",
       "      <td>0.000000</td>\n",
       "      <td>0.0</td>\n",
       "      <td>0.0</td>\n",
       "      <td>0.0</td>\n",
       "      <td>0.0</td>\n",
       "      <td>0.0</td>\n",
       "      <td>0.0</td>\n",
       "      <td>0.0</td>\n",
       "      <td>0.0</td>\n",
       "    </tr>\n",
       "    <tr>\n",
       "      <th>2024-07-25</th>\n",
       "      <td>11.85</td>\n",
       "      <td>8.55</td>\n",
       "      <td>0.76</td>\n",
       "      <td>50.400002</td>\n",
       "      <td>9.900000</td>\n",
       "      <td>7.72</td>\n",
       "      <td>10.90</td>\n",
       "      <td>26.889999</td>\n",
       "      <td>11.23</td>\n",
       "      <td>12.35</td>\n",
       "      <td>...</td>\n",
       "      <td>0.0</td>\n",
       "      <td>0.000000</td>\n",
       "      <td>0.0</td>\n",
       "      <td>0.0</td>\n",
       "      <td>0.0</td>\n",
       "      <td>0.0</td>\n",
       "      <td>0.0</td>\n",
       "      <td>0.0</td>\n",
       "      <td>0.0</td>\n",
       "      <td>0.0</td>\n",
       "    </tr>\n",
       "    <tr>\n",
       "      <th>2024-07-26</th>\n",
       "      <td>11.88</td>\n",
       "      <td>8.66</td>\n",
       "      <td>0.70</td>\n",
       "      <td>50.840000</td>\n",
       "      <td>9.840000</td>\n",
       "      <td>8.25</td>\n",
       "      <td>10.95</td>\n",
       "      <td>27.120001</td>\n",
       "      <td>11.33</td>\n",
       "      <td>12.45</td>\n",
       "      <td>...</td>\n",
       "      <td>0.0</td>\n",
       "      <td>0.000000</td>\n",
       "      <td>0.0</td>\n",
       "      <td>0.0</td>\n",
       "      <td>0.0</td>\n",
       "      <td>0.0</td>\n",
       "      <td>0.0</td>\n",
       "      <td>0.0</td>\n",
       "      <td>0.0</td>\n",
       "      <td>0.0</td>\n",
       "    </tr>\n",
       "    <tr>\n",
       "      <th>2024-07-29</th>\n",
       "      <td>11.82</td>\n",
       "      <td>8.65</td>\n",
       "      <td>0.63</td>\n",
       "      <td>49.759998</td>\n",
       "      <td>9.550000</td>\n",
       "      <td>7.97</td>\n",
       "      <td>10.85</td>\n",
       "      <td>27.160000</td>\n",
       "      <td>11.33</td>\n",
       "      <td>12.50</td>\n",
       "      <td>...</td>\n",
       "      <td>0.0</td>\n",
       "      <td>0.450511</td>\n",
       "      <td>0.0</td>\n",
       "      <td>0.0</td>\n",
       "      <td>0.0</td>\n",
       "      <td>0.0</td>\n",
       "      <td>0.0</td>\n",
       "      <td>0.0</td>\n",
       "      <td>0.0</td>\n",
       "      <td>0.0</td>\n",
       "    </tr>\n",
       "    <tr>\n",
       "      <th>2024-07-30</th>\n",
       "      <td>11.64</td>\n",
       "      <td>8.56</td>\n",
       "      <td>0.62</td>\n",
       "      <td>48.689999</td>\n",
       "      <td>9.440000</td>\n",
       "      <td>8.15</td>\n",
       "      <td>10.76</td>\n",
       "      <td>26.950001</td>\n",
       "      <td>11.24</td>\n",
       "      <td>12.40</td>\n",
       "      <td>...</td>\n",
       "      <td>0.0</td>\n",
       "      <td>0.000000</td>\n",
       "      <td>0.0</td>\n",
       "      <td>0.0</td>\n",
       "      <td>0.0</td>\n",
       "      <td>0.0</td>\n",
       "      <td>0.0</td>\n",
       "      <td>0.0</td>\n",
       "      <td>0.0</td>\n",
       "      <td>0.0</td>\n",
       "    </tr>\n",
       "  </tbody>\n",
       "</table>\n",
       "<p>394 rows × 156 columns</p>\n",
       "</div>"
      ],
      "text/plain": [
       "Price         Close                                                            \\\n",
       "Ticker     ABEV3.SA ALPA4.SA AMER3.SA   ARZZ3.SA   ASAI3.SA AZUL4.SA B3SA3.SA   \n",
       "Date                                                                            \n",
       "2023-01-02    14.19    14.33     9.03  74.120003  18.990000    10.30    12.25   \n",
       "2023-01-03    14.17    13.40     8.52  71.809998  18.610001    10.16    11.84   \n",
       "2023-01-04    14.25    13.49     8.73  73.459999  19.080000    10.56    11.93   \n",
       "2023-01-05    14.29    13.86     9.69  74.339996  18.980000    11.55    12.30   \n",
       "2023-01-06    14.32    13.87    10.41  75.800003  19.040001    11.84    12.59   \n",
       "...             ...      ...      ...        ...        ...      ...      ...   \n",
       "2024-07-24    11.79     8.53     0.76  51.700001  10.000000     7.82    11.03   \n",
       "2024-07-25    11.85     8.55     0.76  50.400002   9.900000     7.72    10.90   \n",
       "2024-07-26    11.88     8.66     0.70  50.840000   9.840000     8.25    10.95   \n",
       "2024-07-29    11.82     8.65     0.63  49.759998   9.550000     7.97    10.85   \n",
       "2024-07-30    11.64     8.56     0.62  48.689999   9.440000     8.15    10.76   \n",
       "\n",
       "Price                                    ... Dividends                     \\\n",
       "Ticker       BBAS3.SA BBDC3.SA BBDC4.SA  ...  SLCE3.SA  SMTO3.SA SOMA3.SA   \n",
       "Date                                     ...                                \n",
       "2023-01-02  16.629999    13.19    14.75  ...       0.0  0.000000      0.0   \n",
       "2023-01-03  16.320000    12.55    14.00  ...       0.0  0.000000      0.0   \n",
       "2023-01-04  16.530001    12.66    14.04  ...       0.0  0.000000      0.0   \n",
       "2023-01-05  17.285000    13.07    14.65  ...       0.0  0.000000      0.0   \n",
       "2023-01-06  17.525000    13.42    15.06  ...       0.0  0.000000      0.0   \n",
       "...               ...      ...      ...  ...       ...       ...      ...   \n",
       "2024-07-24  26.870001    11.37    12.55  ...       0.0  0.000000      0.0   \n",
       "2024-07-25  26.889999    11.23    12.35  ...       0.0  0.000000      0.0   \n",
       "2024-07-26  27.120001    11.33    12.45  ...       0.0  0.000000      0.0   \n",
       "2024-07-29  27.160000    11.33    12.50  ...       0.0  0.450511      0.0   \n",
       "2024-07-30  26.950001    11.24    12.40  ...       0.0  0.000000      0.0   \n",
       "\n",
       "Price                                                                       \n",
       "Ticker     SUZB3.SA TAEE11.SA UGPA3.SA USIM5.SA VALE3.SA VBBR3.SA WEGE3.SA  \n",
       "Date                                                                        \n",
       "2023-01-02      0.0       0.0      0.0      0.0      0.0      0.0      0.0  \n",
       "2023-01-03      0.0       0.0      0.0      0.0      0.0      0.0      0.0  \n",
       "2023-01-04      0.0       0.0      0.0      0.0      0.0      0.0      0.0  \n",
       "2023-01-05      0.0       0.0      0.0      0.0      0.0      0.0      0.0  \n",
       "2023-01-06      0.0       0.0      0.0      0.0      0.0      0.0      0.0  \n",
       "...             ...       ...      ...      ...      ...      ...      ...  \n",
       "2024-07-24      0.0       0.0      0.0      0.0      0.0      0.0      0.0  \n",
       "2024-07-25      0.0       0.0      0.0      0.0      0.0      0.0      0.0  \n",
       "2024-07-26      0.0       0.0      0.0      0.0      0.0      0.0      0.0  \n",
       "2024-07-29      0.0       0.0      0.0      0.0      0.0      0.0      0.0  \n",
       "2024-07-30      0.0       0.0      0.0      0.0      0.0      0.0      0.0  \n",
       "\n",
       "[394 rows x 156 columns]"
      ]
     },
     "execution_count": 5,
     "metadata": {},
     "output_type": "execute_result"
    }
   ],
   "source": [
    "df_dados"
   ]
  },
  {
   "cell_type": "markdown",
   "metadata": {},
   "source": [
    "Cálculo da soma total dos dividendos pagos para cada ativo durante o período especificado."
   ]
  },
  {
   "cell_type": "code",
   "execution_count": 6,
   "metadata": {
    "colab": {
     "base_uri": "https://localhost:8080/"
    },
    "id": "5zUK-IaoBSnE",
    "outputId": "d8e31b97-08ec-4b4f-e916-22b4727b0ec7"
   },
   "outputs": [
    {
     "data": {
      "text/plain": [
       "Ticker\n",
       "ABEV3.SA    0.730200\n",
       "ALPA4.SA    0.000000\n",
       "AMER3.SA    0.000000\n",
       "ARZZ3.SA    2.473210\n",
       "ASAI3.SA    0.050019\n",
       "              ...   \n",
       "UGPA3.SA    0.750000\n",
       "USIM5.SA    0.611825\n",
       "VALE3.SA    7.250437\n",
       "VBBR3.SA    1.905913\n",
       "WEGE3.SA    1.033273\n",
       "Length: 78, dtype: float64"
      ]
     },
     "execution_count": 6,
     "metadata": {},
     "output_type": "execute_result"
    }
   ],
   "source": [
    "soma_dividendos = df_dados['Dividends'].sum()\n",
    "soma_dividendos"
   ]
  },
  {
   "cell_type": "markdown",
   "metadata": {},
   "source": [
    "Extrai o preço de fechamento mais recente para cada ativo no DataFrame."
   ]
  },
  {
   "cell_type": "code",
   "execution_count": 7,
   "metadata": {
    "colab": {
     "base_uri": "https://localhost:8080/"
    },
    "id": "ifsn8VGfBSf0",
    "outputId": "afe3f162-6fc3-4757-a85f-3273e237ddaf"
   },
   "outputs": [
    {
     "data": {
      "text/plain": [
       "Ticker\n",
       "ABEV3.SA    11.640000\n",
       "ALPA4.SA     8.560000\n",
       "AMER3.SA     0.620000\n",
       "ARZZ3.SA    48.689999\n",
       "ASAI3.SA     9.440000\n",
       "              ...    \n",
       "UGPA3.SA    22.459999\n",
       "USIM5.SA     6.330000\n",
       "VALE3.SA    60.220001\n",
       "VBBR3.SA    23.190001\n",
       "WEGE3.SA    45.860001\n",
       "Name: 2024-07-30 00:00:00, Length: 78, dtype: float64"
      ]
     },
     "execution_count": 7,
     "metadata": {},
     "output_type": "execute_result"
    }
   ],
   "source": [
    "close_ativo = df_dados['Close'].iloc[-1]\n",
    "close_ativo"
   ]
  },
  {
   "cell_type": "markdown",
   "metadata": {},
   "source": [
    "Cria um DataFrame contendo o Dividend Yield (%) para cada ativo"
   ]
  },
  {
   "cell_type": "code",
   "execution_count": 8,
   "metadata": {
    "colab": {
     "base_uri": "https://localhost:8080/",
     "height": 423
    },
    "id": "EDWOtdLBFZU9",
    "outputId": "0858f9a2-ba62-4886-a4ea-a755d9ee8049"
   },
   "outputs": [
    {
     "data": {
      "text/html": [
       "<div>\n",
       "<style scoped>\n",
       "    .dataframe tbody tr th:only-of-type {\n",
       "        vertical-align: middle;\n",
       "    }\n",
       "\n",
       "    .dataframe tbody tr th {\n",
       "        vertical-align: top;\n",
       "    }\n",
       "\n",
       "    .dataframe thead th {\n",
       "        text-align: right;\n",
       "    }\n",
       "</style>\n",
       "<table border=\"1\" class=\"dataframe\">\n",
       "  <thead>\n",
       "    <tr style=\"text-align: right;\">\n",
       "      <th></th>\n",
       "      <th>DY_%</th>\n",
       "    </tr>\n",
       "    <tr>\n",
       "      <th>Ticker</th>\n",
       "      <th></th>\n",
       "    </tr>\n",
       "  </thead>\n",
       "  <tbody>\n",
       "    <tr>\n",
       "      <th>ABEV3.SA</th>\n",
       "      <td>6.273196</td>\n",
       "    </tr>\n",
       "    <tr>\n",
       "      <th>ALPA4.SA</th>\n",
       "      <td>0.000000</td>\n",
       "    </tr>\n",
       "    <tr>\n",
       "      <th>AMER3.SA</th>\n",
       "      <td>0.000000</td>\n",
       "    </tr>\n",
       "    <tr>\n",
       "      <th>ARZZ3.SA</th>\n",
       "      <td>5.079503</td>\n",
       "    </tr>\n",
       "    <tr>\n",
       "      <th>ASAI3.SA</th>\n",
       "      <td>0.529862</td>\n",
       "    </tr>\n",
       "    <tr>\n",
       "      <th>...</th>\n",
       "      <td>...</td>\n",
       "    </tr>\n",
       "    <tr>\n",
       "      <th>UGPA3.SA</th>\n",
       "      <td>3.339270</td>\n",
       "    </tr>\n",
       "    <tr>\n",
       "      <th>USIM5.SA</th>\n",
       "      <td>9.665482</td>\n",
       "    </tr>\n",
       "    <tr>\n",
       "      <th>VALE3.SA</th>\n",
       "      <td>12.039915</td>\n",
       "    </tr>\n",
       "    <tr>\n",
       "      <th>VBBR3.SA</th>\n",
       "      <td>8.218685</td>\n",
       "    </tr>\n",
       "    <tr>\n",
       "      <th>WEGE3.SA</th>\n",
       "      <td>2.253103</td>\n",
       "    </tr>\n",
       "  </tbody>\n",
       "</table>\n",
       "<p>78 rows × 1 columns</p>\n",
       "</div>"
      ],
      "text/plain": [
       "               DY_%\n",
       "Ticker             \n",
       "ABEV3.SA   6.273196\n",
       "ALPA4.SA   0.000000\n",
       "AMER3.SA   0.000000\n",
       "ARZZ3.SA   5.079503\n",
       "ASAI3.SA   0.529862\n",
       "...             ...\n",
       "UGPA3.SA   3.339270\n",
       "USIM5.SA   9.665482\n",
       "VALE3.SA  12.039915\n",
       "VBBR3.SA   8.218685\n",
       "WEGE3.SA   2.253103\n",
       "\n",
       "[78 rows x 1 columns]"
      ]
     },
     "execution_count": 8,
     "metadata": {},
     "output_type": "execute_result"
    }
   ],
   "source": [
    "tabela_DY_2022 = pd.DataFrame(soma_dividendos/close_ativo*100, columns=['DY_%'])\n",
    "tabela_DY_2022.sort_index()"
   ]
  },
  {
   "cell_type": "markdown",
   "metadata": {},
   "source": [
    "Cria um DataFrame que mapeia cada ativo ao seu setor correspondente, conforme definido no dicionário 'ativos_setor_IBOV'.  \n",
    "A coluna 'Ativo' é descartada após a criação do DataFrame."
   ]
  },
  {
   "cell_type": "code",
   "execution_count": 9,
   "metadata": {
    "colab": {
     "base_uri": "https://localhost:8080/",
     "height": 423
    },
    "id": "HL1NEGjWG6TS",
    "outputId": "18cd3a90-69cb-45b4-ca9d-c524d08a946a"
   },
   "outputs": [
    {
     "data": {
      "text/html": [
       "<div>\n",
       "<style scoped>\n",
       "    .dataframe tbody tr th:only-of-type {\n",
       "        vertical-align: middle;\n",
       "    }\n",
       "\n",
       "    .dataframe tbody tr th {\n",
       "        vertical-align: top;\n",
       "    }\n",
       "\n",
       "    .dataframe thead th {\n",
       "        text-align: right;\n",
       "    }\n",
       "</style>\n",
       "<table border=\"1\" class=\"dataframe\">\n",
       "  <thead>\n",
       "    <tr style=\"text-align: right;\">\n",
       "      <th></th>\n",
       "      <th>Setor</th>\n",
       "    </tr>\n",
       "  </thead>\n",
       "  <tbody>\n",
       "    <tr>\n",
       "      <th>ABEV3</th>\n",
       "      <td>Consumo_nao_ciclico</td>\n",
       "    </tr>\n",
       "    <tr>\n",
       "      <th>ALPA4</th>\n",
       "      <td>Consumo_ciclico</td>\n",
       "    </tr>\n",
       "    <tr>\n",
       "      <th>AMER3</th>\n",
       "      <td>Consumo_ciclico</td>\n",
       "    </tr>\n",
       "    <tr>\n",
       "      <th>ARZZ3</th>\n",
       "      <td>Consumo_ciclico</td>\n",
       "    </tr>\n",
       "    <tr>\n",
       "      <th>ASAI3</th>\n",
       "      <td>Consumo_nao_ciclico</td>\n",
       "    </tr>\n",
       "    <tr>\n",
       "      <th>...</th>\n",
       "      <td>...</td>\n",
       "    </tr>\n",
       "    <tr>\n",
       "      <th>UGPA3</th>\n",
       "      <td>Petroleo_gas_biocombustiveis</td>\n",
       "    </tr>\n",
       "    <tr>\n",
       "      <th>USIM5</th>\n",
       "      <td>Mats_basicos</td>\n",
       "    </tr>\n",
       "    <tr>\n",
       "      <th>VALE3</th>\n",
       "      <td>Mats_basicos</td>\n",
       "    </tr>\n",
       "    <tr>\n",
       "      <th>VBBR3</th>\n",
       "      <td>Petroleo_gas_biocombustiveis</td>\n",
       "    </tr>\n",
       "    <tr>\n",
       "      <th>WEGE3</th>\n",
       "      <td>Bens_industriais</td>\n",
       "    </tr>\n",
       "  </tbody>\n",
       "</table>\n",
       "<p>78 rows × 1 columns</p>\n",
       "</div>"
      ],
      "text/plain": [
       "                              Setor\n",
       "ABEV3           Consumo_nao_ciclico\n",
       "ALPA4               Consumo_ciclico\n",
       "AMER3               Consumo_ciclico\n",
       "ARZZ3               Consumo_ciclico\n",
       "ASAI3           Consumo_nao_ciclico\n",
       "...                             ...\n",
       "UGPA3  Petroleo_gas_biocombustiveis\n",
       "USIM5                  Mats_basicos\n",
       "VALE3                  Mats_basicos\n",
       "VBBR3  Petroleo_gas_biocombustiveis\n",
       "WEGE3              Bens_industriais\n",
       "\n",
       "[78 rows x 1 columns]"
      ]
     },
     "execution_count": 9,
     "metadata": {},
     "output_type": "execute_result"
    }
   ],
   "source": [
    "df_ativos_setor = pd.DataFrame(data=ativos_setor_IBOV.items(), index=ativos_setor_IBOV.keys(), columns=['Ativo', 'Setor']).drop('Ativo', axis=1)\n",
    "df_ativos_setor = df_ativos_setor.sort_index()\n",
    "df_ativos_setor"
   ]
  },
  {
   "cell_type": "markdown",
   "metadata": {},
   "source": [
    "Retirando \"S.A.\" dos tickers"
   ]
  },
  {
   "cell_type": "code",
   "execution_count": 10,
   "metadata": {
    "colab": {
     "base_uri": "https://localhost:8080/"
    },
    "id": "sd2YMNbeLXPx",
    "outputId": "c102ef37-ca8f-47ad-a338-1114400ccced"
   },
   "outputs": [
    {
     "name": "stdout",
     "output_type": "stream",
     "text": [
      "{'AZUL4.SA': 'AZUL4', 'CCRO3.SA': 'CCRO3', 'ECOR3.SA': 'ECOR3', 'EMBR3.SA': 'EMBR3', 'GOLL4.SA': 'GOLL4', 'RAIL3.SA': 'RAIL3', 'WEGE3.SA': 'WEGE3', 'ALPA4.SA': 'ALPA4', 'ARZZ3.SA': 'ARZZ3', 'CVCB3.SA': 'CVCB3', 'CYRE3.SA': 'CYRE3', 'EZTC3.SA': 'EZTC3', 'LREN3.SA': 'LREN3', 'MGLU3.SA': 'MGLU3', 'MRVE3.SA': 'MRVE3', 'PETZ3.SA': 'PETZ3', 'SOMA3.SA': 'SOMA3', 'AMER3.SA': 'AMER3', 'ABEV3.SA': 'ABEV3', 'ASAI3.SA': 'ASAI3', 'BEEF3.SA': 'BEEF3', 'BRFS3.SA': 'BRFS3', 'CRFB3.SA': 'CRFB3', 'JBSS3.SA': 'JBSS3', 'MRFG3.SA': 'MRFG3', 'NTCO3.SA': 'NTCO3', 'PCAR3.SA': 'PCAR3', 'RAIZ4.SA': 'RAIZ4', 'SLCE3.SA': 'SLCE3', 'SMTO3.SA': 'SMTO3', 'BBSE3.SA': 'BBSE3', 'B3SA3.SA': 'B3SA3', 'BBAS3.SA': 'BBAS3', 'BBDC3.SA': 'BBDC3', 'BBDC4.SA': 'BBDC4', 'BPAC11.SA': 'BPAC11', 'BPAN4.SA': 'BPAN4', 'CIEL3.SA': 'CIEL3', 'IGTI11.SA': 'IGTI11', 'ITSA4.SA': 'ITSA4', 'ITUB4.SA': 'ITUB4', 'MULT3.SA': 'MULT3', 'SANB11.SA': 'SANB11', 'BRAP4.SA': 'BRAP4', 'BRKM5.SA': 'BRKM5', 'CMIN3.SA': 'CMIN3', 'CSNA3.SA': 'CSNA3', 'DXCO3.SA': 'DXCO3', 'GGBR4.SA': 'GGBR4', 'GOAU4.SA': 'GOAU4', 'KLBN11.SA': 'KLBN11', 'SUZB3.SA': 'SUZB3', 'USIM5.SA': 'USIM5', 'VALE3.SA': 'VALE3', 'CSAN3.SA': 'CSAN3', 'PETR3.SA': 'PETR3', 'PETR4.SA': 'PETR4', 'PRIO3.SA': 'PRIO3', 'RRRP3.SA': 'RRRP3', 'UGPA3.SA': 'UGPA3', 'VBBR3.SA': 'VBBR3', 'FLRY3.SA': 'FLRY3', 'HAPV3.SA': 'HAPV3', 'HYPE3.SA': 'HYPE3', 'QUAL3.SA': 'QUAL3', 'RADL3.SA': 'RADL3', 'RDOR3.SA': 'RDOR3', 'CMIG4.SA': 'CMIG4', 'CPFE3.SA': 'CPFE3', 'CPLE6.SA': 'CPLE6', 'EGIE3.SA': 'EGIE3', 'ELET3.SA': 'ELET3', 'ELET6.SA': 'ELET6', 'ENEV3.SA': 'ENEV3', 'ENGI11.SA': 'ENGI11', 'EQTL3.SA': 'EQTL3', 'SBSP3.SA': 'SBSP3', 'TAEE11.SA': 'TAEE11'}\n"
     ]
    }
   ],
   "source": [
    "nome_corrigido = dict(zip(lista_ativos_yf, lista_ativos))\n",
    "print(nome_corrigido)"
   ]
  },
  {
   "cell_type": "markdown",
   "metadata": {},
   "source": [
    "Renomeia os índices de 'tabela_DY_2022' usando o dicionário nome_corrigido, para remover \".SA\" dos tickers dos ativos.  \n",
    "Combina df_ativos_setor e 'tabela_DY_2022' ao longo do eixo das colunas (axis=1), criando um novo DataFrame 'dados_setor_DY' que contém tanto os setores quanto os Dividend Yields dos ativos.  "
   ]
  },
  {
   "cell_type": "code",
   "execution_count": 11,
   "metadata": {
    "colab": {
     "base_uri": "https://localhost:8080/",
     "height": 423
    },
    "id": "alRkY6MtI8rC",
    "outputId": "fcc47174-1310-4de6-f24b-20bdb457f968"
   },
   "outputs": [
    {
     "data": {
      "text/html": [
       "<div>\n",
       "<style scoped>\n",
       "    .dataframe tbody tr th:only-of-type {\n",
       "        vertical-align: middle;\n",
       "    }\n",
       "\n",
       "    .dataframe tbody tr th {\n",
       "        vertical-align: top;\n",
       "    }\n",
       "\n",
       "    .dataframe thead th {\n",
       "        text-align: right;\n",
       "    }\n",
       "</style>\n",
       "<table border=\"1\" class=\"dataframe\">\n",
       "  <thead>\n",
       "    <tr style=\"text-align: right;\">\n",
       "      <th></th>\n",
       "      <th>Setor</th>\n",
       "      <th>DY_%</th>\n",
       "    </tr>\n",
       "  </thead>\n",
       "  <tbody>\n",
       "    <tr>\n",
       "      <th>ABEV3</th>\n",
       "      <td>Consumo_nao_ciclico</td>\n",
       "      <td>6.273196</td>\n",
       "    </tr>\n",
       "    <tr>\n",
       "      <th>ALPA4</th>\n",
       "      <td>Consumo_ciclico</td>\n",
       "      <td>0.000000</td>\n",
       "    </tr>\n",
       "    <tr>\n",
       "      <th>AMER3</th>\n",
       "      <td>Consumo_ciclico</td>\n",
       "      <td>0.000000</td>\n",
       "    </tr>\n",
       "    <tr>\n",
       "      <th>ARZZ3</th>\n",
       "      <td>Consumo_ciclico</td>\n",
       "      <td>5.079503</td>\n",
       "    </tr>\n",
       "    <tr>\n",
       "      <th>ASAI3</th>\n",
       "      <td>Consumo_nao_ciclico</td>\n",
       "      <td>0.529862</td>\n",
       "    </tr>\n",
       "    <tr>\n",
       "      <th>...</th>\n",
       "      <td>...</td>\n",
       "      <td>...</td>\n",
       "    </tr>\n",
       "    <tr>\n",
       "      <th>UGPA3</th>\n",
       "      <td>Petroleo_gas_biocombustiveis</td>\n",
       "      <td>3.339270</td>\n",
       "    </tr>\n",
       "    <tr>\n",
       "      <th>USIM5</th>\n",
       "      <td>Mats_basicos</td>\n",
       "      <td>9.665482</td>\n",
       "    </tr>\n",
       "    <tr>\n",
       "      <th>VALE3</th>\n",
       "      <td>Mats_basicos</td>\n",
       "      <td>12.039915</td>\n",
       "    </tr>\n",
       "    <tr>\n",
       "      <th>VBBR3</th>\n",
       "      <td>Petroleo_gas_biocombustiveis</td>\n",
       "      <td>8.218685</td>\n",
       "    </tr>\n",
       "    <tr>\n",
       "      <th>WEGE3</th>\n",
       "      <td>Bens_industriais</td>\n",
       "      <td>2.253103</td>\n",
       "    </tr>\n",
       "  </tbody>\n",
       "</table>\n",
       "<p>78 rows × 2 columns</p>\n",
       "</div>"
      ],
      "text/plain": [
       "                              Setor       DY_%\n",
       "ABEV3           Consumo_nao_ciclico   6.273196\n",
       "ALPA4               Consumo_ciclico   0.000000\n",
       "AMER3               Consumo_ciclico   0.000000\n",
       "ARZZ3               Consumo_ciclico   5.079503\n",
       "ASAI3           Consumo_nao_ciclico   0.529862\n",
       "...                             ...        ...\n",
       "UGPA3  Petroleo_gas_biocombustiveis   3.339270\n",
       "USIM5                  Mats_basicos   9.665482\n",
       "VALE3                  Mats_basicos  12.039915\n",
       "VBBR3  Petroleo_gas_biocombustiveis   8.218685\n",
       "WEGE3              Bens_industriais   2.253103\n",
       "\n",
       "[78 rows x 2 columns]"
      ]
     },
     "execution_count": 11,
     "metadata": {},
     "output_type": "execute_result"
    }
   ],
   "source": [
    "tabela_DY_2022.rename(nome_corrigido, axis=0, inplace=True)\n",
    "dados_setor_DY = pd.concat([df_ativos_setor, tabela_DY_2022], axis=1)\n",
    "dados_setor_DY"
   ]
  },
  {
   "cell_type": "markdown",
   "metadata": {
    "id": "4_qm3ViQVrZ5"
   },
   "source": [
    "---\n",
    "### **ANOVA (Análise de Variância)**"
   ]
  },
  {
   "cell_type": "markdown",
   "metadata": {
    "id": "nRIcxiyBf2iN"
   },
   "source": [
    "##### **Hipóteses**"
   ]
  },
  {
   "cell_type": "markdown",
   "metadata": {
    "id": "rw0y4fphVrZ5"
   },
   "source": [
    "* Hipótese H0 (nula): As médias de DY não diferem entre os setores\n",
    "* Hipótese H1 (alternativa): As médias são diferentes estatisticamente\n",
    "\n",
    "*Exemplo: Houve diferença significativa entre os setores do IBOV quanto à média de Dividend Yield (%) neste período?*"
   ]
  },
  {
   "cell_type": "code",
   "execution_count": 12,
   "metadata": {
    "colab": {
     "base_uri": "https://localhost:8080/",
     "height": 423
    },
    "id": "8XeoVzlzWcLm",
    "outputId": "8098f00c-e216-4098-c672-d0e2a22b05a4"
   },
   "outputs": [
    {
     "data": {
      "text/html": [
       "<div>\n",
       "<style scoped>\n",
       "    .dataframe tbody tr th:only-of-type {\n",
       "        vertical-align: middle;\n",
       "    }\n",
       "\n",
       "    .dataframe tbody tr th {\n",
       "        vertical-align: top;\n",
       "    }\n",
       "\n",
       "    .dataframe thead th {\n",
       "        text-align: right;\n",
       "    }\n",
       "</style>\n",
       "<table border=\"1\" class=\"dataframe\">\n",
       "  <thead>\n",
       "    <tr style=\"text-align: right;\">\n",
       "      <th></th>\n",
       "      <th>Setor</th>\n",
       "      <th>DY_%</th>\n",
       "    </tr>\n",
       "  </thead>\n",
       "  <tbody>\n",
       "    <tr>\n",
       "      <th>ABEV3</th>\n",
       "      <td>Consumo_nao_ciclico</td>\n",
       "      <td>6.273196</td>\n",
       "    </tr>\n",
       "    <tr>\n",
       "      <th>ALPA4</th>\n",
       "      <td>Consumo_ciclico</td>\n",
       "      <td>0.000000</td>\n",
       "    </tr>\n",
       "    <tr>\n",
       "      <th>AMER3</th>\n",
       "      <td>Consumo_ciclico</td>\n",
       "      <td>0.000000</td>\n",
       "    </tr>\n",
       "    <tr>\n",
       "      <th>ARZZ3</th>\n",
       "      <td>Consumo_ciclico</td>\n",
       "      <td>5.079503</td>\n",
       "    </tr>\n",
       "    <tr>\n",
       "      <th>ASAI3</th>\n",
       "      <td>Consumo_nao_ciclico</td>\n",
       "      <td>0.529862</td>\n",
       "    </tr>\n",
       "    <tr>\n",
       "      <th>...</th>\n",
       "      <td>...</td>\n",
       "      <td>...</td>\n",
       "    </tr>\n",
       "    <tr>\n",
       "      <th>UGPA3</th>\n",
       "      <td>Petroleo_gas_biocombustiveis</td>\n",
       "      <td>3.339270</td>\n",
       "    </tr>\n",
       "    <tr>\n",
       "      <th>USIM5</th>\n",
       "      <td>Mats_basicos</td>\n",
       "      <td>9.665482</td>\n",
       "    </tr>\n",
       "    <tr>\n",
       "      <th>VALE3</th>\n",
       "      <td>Mats_basicos</td>\n",
       "      <td>12.039915</td>\n",
       "    </tr>\n",
       "    <tr>\n",
       "      <th>VBBR3</th>\n",
       "      <td>Petroleo_gas_biocombustiveis</td>\n",
       "      <td>8.218685</td>\n",
       "    </tr>\n",
       "    <tr>\n",
       "      <th>WEGE3</th>\n",
       "      <td>Bens_industriais</td>\n",
       "      <td>2.253103</td>\n",
       "    </tr>\n",
       "  </tbody>\n",
       "</table>\n",
       "<p>78 rows × 2 columns</p>\n",
       "</div>"
      ],
      "text/plain": [
       "                              Setor       DY_%\n",
       "ABEV3           Consumo_nao_ciclico   6.273196\n",
       "ALPA4               Consumo_ciclico   0.000000\n",
       "AMER3               Consumo_ciclico   0.000000\n",
       "ARZZ3               Consumo_ciclico   5.079503\n",
       "ASAI3           Consumo_nao_ciclico   0.529862\n",
       "...                             ...        ...\n",
       "UGPA3  Petroleo_gas_biocombustiveis   3.339270\n",
       "USIM5                  Mats_basicos   9.665482\n",
       "VALE3                  Mats_basicos  12.039915\n",
       "VBBR3  Petroleo_gas_biocombustiveis   8.218685\n",
       "WEGE3              Bens_industriais   2.253103\n",
       "\n",
       "[78 rows x 2 columns]"
      ]
     },
     "execution_count": 12,
     "metadata": {},
     "output_type": "execute_result"
    }
   ],
   "source": [
    "dados_setor_DY"
   ]
  },
  {
   "cell_type": "markdown",
   "metadata": {
    "id": "h1Jbd5i8oNwX"
   },
   "source": [
    "##### **Visualizando os dados das médias e desvios dos grupos**"
   ]
  },
  {
   "cell_type": "code",
   "execution_count": 13,
   "metadata": {
    "colab": {
     "base_uri": "https://localhost:8080/",
     "height": 363
    },
    "id": "T8Ix3gyZmSM3",
    "outputId": "d2b90433-528b-450a-cfa9-27a24e2b73e3"
   },
   "outputs": [
    {
     "data": {
      "text/html": [
       "<div>\n",
       "<style scoped>\n",
       "    .dataframe tbody tr th:only-of-type {\n",
       "        vertical-align: middle;\n",
       "    }\n",
       "\n",
       "    .dataframe tbody tr th {\n",
       "        vertical-align: top;\n",
       "    }\n",
       "\n",
       "    .dataframe thead tr th {\n",
       "        text-align: left;\n",
       "    }\n",
       "\n",
       "    .dataframe thead tr:last-of-type th {\n",
       "        text-align: right;\n",
       "    }\n",
       "</style>\n",
       "<table border=\"1\" class=\"dataframe\">\n",
       "  <thead>\n",
       "    <tr>\n",
       "      <th></th>\n",
       "      <th>mean</th>\n",
       "      <th>std</th>\n",
       "    </tr>\n",
       "    <tr>\n",
       "      <th></th>\n",
       "      <th>DY_%</th>\n",
       "      <th>DY_%</th>\n",
       "    </tr>\n",
       "    <tr>\n",
       "      <th>Setor</th>\n",
       "      <th></th>\n",
       "      <th></th>\n",
       "    </tr>\n",
       "  </thead>\n",
       "  <tbody>\n",
       "    <tr>\n",
       "      <th>Bens_industriais</th>\n",
       "      <td>1.309413</td>\n",
       "      <td>1.565357</td>\n",
       "    </tr>\n",
       "    <tr>\n",
       "      <th>Consumo_ciclico</th>\n",
       "      <td>2.310827</td>\n",
       "      <td>3.087506</td>\n",
       "    </tr>\n",
       "    <tr>\n",
       "      <th>Consumo_nao_ciclico</th>\n",
       "      <td>4.457222</td>\n",
       "      <td>4.165341</td>\n",
       "    </tr>\n",
       "    <tr>\n",
       "      <th>Financeiro_e_outros</th>\n",
       "      <td>9.529354</td>\n",
       "      <td>4.407469</td>\n",
       "    </tr>\n",
       "    <tr>\n",
       "      <th>Mats_basicos</th>\n",
       "      <td>10.962153</td>\n",
       "      <td>7.248022</td>\n",
       "    </tr>\n",
       "    <tr>\n",
       "      <th>Petroleo_gas_biocombustiveis</th>\n",
       "      <td>11.316508</td>\n",
       "      <td>12.907463</td>\n",
       "    </tr>\n",
       "    <tr>\n",
       "      <th>Saude</th>\n",
       "      <td>3.206164</td>\n",
       "      <td>2.327039</td>\n",
       "    </tr>\n",
       "    <tr>\n",
       "      <th>Utilidade_publica</th>\n",
       "      <td>7.291339</td>\n",
       "      <td>5.896924</td>\n",
       "    </tr>\n",
       "  </tbody>\n",
       "</table>\n",
       "</div>"
      ],
      "text/plain": [
       "                                   mean        std\n",
       "                                   DY_%       DY_%\n",
       "Setor                                             \n",
       "Bens_industriais               1.309413   1.565357\n",
       "Consumo_ciclico                2.310827   3.087506\n",
       "Consumo_nao_ciclico            4.457222   4.165341\n",
       "Financeiro_e_outros            9.529354   4.407469\n",
       "Mats_basicos                  10.962153   7.248022\n",
       "Petroleo_gas_biocombustiveis  11.316508  12.907463\n",
       "Saude                          3.206164   2.327039\n",
       "Utilidade_publica              7.291339   5.896924"
      ]
     },
     "execution_count": 13,
     "metadata": {},
     "output_type": "execute_result"
    }
   ],
   "source": [
    "pd.pivot_table(dados_setor_DY, values=['DY_%'], index=['Setor'], aggfunc=['mean','std'])"
   ]
  },
  {
   "cell_type": "code",
   "execution_count": 14,
   "metadata": {
    "colab": {
     "base_uri": "https://localhost:8080/",
     "height": 331
    },
    "id": "EZBstbMgoNwX",
    "outputId": "8f49e6c7-f1fd-4343-f299-6030043b1a4a"
   },
   "outputs": [
    {
     "data": {
      "text/html": [
       "<div>\n",
       "<style scoped>\n",
       "    .dataframe tbody tr th:only-of-type {\n",
       "        vertical-align: middle;\n",
       "    }\n",
       "\n",
       "    .dataframe tbody tr th {\n",
       "        vertical-align: top;\n",
       "    }\n",
       "\n",
       "    .dataframe thead th {\n",
       "        text-align: right;\n",
       "    }\n",
       "</style>\n",
       "<table border=\"1\" class=\"dataframe\">\n",
       "  <thead>\n",
       "    <tr style=\"text-align: right;\">\n",
       "      <th></th>\n",
       "      <th>mean</th>\n",
       "      <th>std</th>\n",
       "    </tr>\n",
       "    <tr>\n",
       "      <th>Setor</th>\n",
       "      <th></th>\n",
       "      <th></th>\n",
       "    </tr>\n",
       "  </thead>\n",
       "  <tbody>\n",
       "    <tr>\n",
       "      <th>Bens_industriais</th>\n",
       "      <td>1.309413</td>\n",
       "      <td>1.565357</td>\n",
       "    </tr>\n",
       "    <tr>\n",
       "      <th>Consumo_ciclico</th>\n",
       "      <td>2.310827</td>\n",
       "      <td>3.087506</td>\n",
       "    </tr>\n",
       "    <tr>\n",
       "      <th>Consumo_nao_ciclico</th>\n",
       "      <td>4.457222</td>\n",
       "      <td>4.165341</td>\n",
       "    </tr>\n",
       "    <tr>\n",
       "      <th>Financeiro_e_outros</th>\n",
       "      <td>9.529354</td>\n",
       "      <td>4.407469</td>\n",
       "    </tr>\n",
       "    <tr>\n",
       "      <th>Mats_basicos</th>\n",
       "      <td>10.962153</td>\n",
       "      <td>7.248022</td>\n",
       "    </tr>\n",
       "    <tr>\n",
       "      <th>Petroleo_gas_biocombustiveis</th>\n",
       "      <td>11.316508</td>\n",
       "      <td>12.907463</td>\n",
       "    </tr>\n",
       "    <tr>\n",
       "      <th>Saude</th>\n",
       "      <td>3.206164</td>\n",
       "      <td>2.327039</td>\n",
       "    </tr>\n",
       "    <tr>\n",
       "      <th>Utilidade_publica</th>\n",
       "      <td>7.291339</td>\n",
       "      <td>5.896924</td>\n",
       "    </tr>\n",
       "  </tbody>\n",
       "</table>\n",
       "</div>"
      ],
      "text/plain": [
       "                                   mean        std\n",
       "Setor                                             \n",
       "Bens_industriais               1.309413   1.565357\n",
       "Consumo_ciclico                2.310827   3.087506\n",
       "Consumo_nao_ciclico            4.457222   4.165341\n",
       "Financeiro_e_outros            9.529354   4.407469\n",
       "Mats_basicos                  10.962153   7.248022\n",
       "Petroleo_gas_biocombustiveis  11.316508  12.907463\n",
       "Saude                          3.206164   2.327039\n",
       "Utilidade_publica              7.291339   5.896924"
      ]
     },
     "execution_count": 14,
     "metadata": {},
     "output_type": "execute_result"
    }
   ],
   "source": [
    "tab_dinamica = pd.pivot_table(dados_setor_DY, values=['DY_%'], index=['Setor'], aggfunc=['mean','std']).droplevel(1, axis=1)\n",
    "tab_dinamica"
   ]
  },
  {
   "cell_type": "code",
   "execution_count": null,
   "metadata": {
    "colab": {
     "base_uri": "https://localhost:8080/",
     "height": 617
    },
    "id": "uY0Xj30BoNwX",
    "outputId": "511d07c5-ef35-4f07-ea65-08b2add9ebcb"
   },
   "outputs": [],
   "source": [
    "fig = go.Figure()\n",
    "\n",
    "fig.add_trace(go.Bar(name='Média e Desvio', x=tab_dinamica.index, y=tab_dinamica['mean'],\n",
    "      error_y=dict(type='data', array=tab_dinamica['std']),\n",
    "      marker_color='#98ac4a', orientation='v'))\n",
    "\n",
    "fig.update_layout(title_text='<b>Dividend Yield (média \\xB1 desvio padrão da média) <br> entre os setores do IBOV', xaxis_title= '<b>Setores IBOV',\n",
    "      yaxis_title= '<b>Dividend Yield (%)', template=\"none\", margin=dict(l=75, r=20, t=75, b=75),\n",
    "      paper_bgcolor=\"#f7f8fa\", font=dict(family=\"Arial\", size=12, color=\"black\"), width=1200, height=600)\n",
    "\n",
    "fig.show()"
   ]
  },
  {
   "attachments": {
    "plot_DY.png": {
     "image/png": "[encoded data removed]"
    }
   },
   "cell_type": "markdown",
   "metadata": {},
   "source": [
    "![plot_DY.png](attachment:plot_DY.png)"
   ]
  },
  {
   "cell_type": "markdown",
   "metadata": {},
   "source": [
    "Separar os dados para fazer o teste de homogeneidade de variâncias"
   ]
  },
  {
   "cell_type": "code",
   "execution_count": 16,
   "metadata": {},
   "outputs": [],
   "source": [
    "# dados_grupos = dados_setor_DY.groupby('Setor')['DY_%']\n",
    "# dados_**Bens_industriais = dados_grupos.get_group(\"**Bens_industriais\")\n",
    "# dados_**Consumo_ciclico = dados_grupos.get_group(\"**Consumo_ciclico\")\n",
    "# dados_**Consumo_nao_ciclico = dados_grupos.get_group(\"**Consumo_nao_ciclico\")\n",
    "# dados_**Financeiro_e_outros = dados_grupos.get_group(\"**Financeiro_e_outros\")\n",
    "# dados_**Mats_basicos = dados_grupos.get_group(\"**Mats_basicos\")\n",
    "# dados_Petroleo_gas_biocombustiveis = dados_grupos.get_group(\"Petroleo_gas_biocombustiveis\")\n",
    "# dados_Saude = dados_grupos.get_group(\"Saude\")\n",
    "# dados_Utilidade_publica = dados_grupos.get_group(\"Utilidade_publica\")"
   ]
  },
  {
   "cell_type": "markdown",
   "metadata": {},
   "source": [
    "A função groupby divide um DataFrame em tuplas (group_name, DataFrame).  \n",
    "Dado uma coluna de grupo 1 e uma coluna de valores 2, podemos usar uma compreensão de lista com um objeto groupby df.groupby(1),  \n",
    "extrair apenas as colunas de valores df.groupb(1)[2] e então iterar através das tuplas do groupby mantendo os valores (col) e descartando os nomes (col_names)"
   ]
  },
  {
   "cell_type": "code",
   "execution_count": 17,
   "metadata": {},
   "outputs": [],
   "source": [
    "values_per_group = [col.dropna() for col_name, col in dados_setor_DY.groupby('Setor')['DY_%']]"
   ]
  },
  {
   "cell_type": "markdown",
   "metadata": {},
   "source": [
    "##### **Teste de Levene**"
   ]
  },
  {
   "cell_type": "markdown",
   "metadata": {},
   "source": [
    "Para a ANOVA é uma premissa fundamental. Caso não seja verificada a homocedasticidade, pode ser necessário transformar os dados (ex., raiz quadrada ou log)"
   ]
  },
  {
   "cell_type": "code",
   "execution_count": 18,
   "metadata": {},
   "outputs": [
    {
     "name": "stdout",
     "output_type": "stream",
     "text": [
      "Teste de Levene: estatística=3.121438497645038, p-valor=0.006320721831286424\n"
     ]
    }
   ],
   "source": [
    "levene_test = stats.levene(*values_per_group)\n",
    "print(f\"Teste de Levene: estatística={levene_test.statistic}, p-valor={levene_test.pvalue}\")"
   ]
  },
  {
   "cell_type": "markdown",
   "metadata": {},
   "source": [
    "Verificar a variância de cada grupo"
   ]
  },
  {
   "cell_type": "code",
   "execution_count": 19,
   "metadata": {},
   "outputs": [
    {
     "name": "stdout",
     "output_type": "stream",
     "text": [
      "                                    DY_%\n",
      "Setor                                   \n",
      "Bens_industriais                2.450343\n",
      "Consumo_ciclico                 9.532694\n",
      "Consumo_nao_ciclico            17.350067\n",
      "Financeiro_e_outros            19.425782\n",
      "Mats_basicos                   52.533828\n",
      "Petroleo_gas_biocombustiveis  166.602591\n",
      "Saude                           5.415110\n",
      "Utilidade_publica              34.773709\n"
     ]
    }
   ],
   "source": [
    "variancia_grupos = dados_setor_DY.groupby('Setor').var()\n",
    "print(variancia_grupos)"
   ]
  },
  {
   "cell_type": "markdown",
   "metadata": {},
   "source": [
    "Removendo o setor 'Petroleo_gas_biocombustiveis' para verificar variâncias homogêneas"
   ]
  },
  {
   "cell_type": "code",
   "execution_count": 20,
   "metadata": {},
   "outputs": [],
   "source": [
    "dados_setor_DY_sem_petroleo = dados_setor_DY[dados_setor_DY.Setor != 'Petroleo_gas_biocombustiveis']\n",
    "values_per_group_sem_petroleo = [col.dropna() for col_name, col in dados_setor_DY_sem_petroleo.groupby('Setor')['DY_%']]\n"
   ]
  },
  {
   "cell_type": "markdown",
   "metadata": {},
   "source": [
    "Teste de Levene sem 'Petroleo_gas_biocombustiveis'"
   ]
  },
  {
   "cell_type": "code",
   "execution_count": 21,
   "metadata": {},
   "outputs": [
    {
     "name": "stdout",
     "output_type": "stream",
     "text": [
      "Teste de Levene sem 'Petroleo_gas_biocombustiveis': estatística=3.2615618842220866, p-valor=0.007339406612545286\n"
     ]
    }
   ],
   "source": [
    "levene_test_sem_petroleo = stats.levene(*values_per_group_sem_petroleo)\n",
    "print(f\"Teste de Levene sem 'Petroleo_gas_biocombustiveis': estatística={levene_test_sem_petroleo.statistic}, p-valor={levene_test_sem_petroleo.pvalue}\")\n"
   ]
  },
  {
   "cell_type": "markdown",
   "metadata": {},
   "source": [
    "##### **Teste ANOVA**"
   ]
  },
  {
   "cell_type": "code",
   "execution_count": 22,
   "metadata": {},
   "outputs": [
    {
     "name": "stdout",
     "output_type": "stream",
     "text": [
      "Resultado da ANOVA: estatística F=6.171343293269228, p-valor=3.785375402406433e-05\n"
     ]
    }
   ],
   "source": [
    "anova_result = stats.f_oneway(*values_per_group_sem_petroleo)\n",
    "print(f\"Resultado da ANOVA: estatística F={anova_result.statistic}, p-valor={anova_result.pvalue}\")\n"
   ]
  },
  {
   "cell_type": "markdown",
   "metadata": {},
   "source": [
    "##### **Post-hoc Tukey HSD (par a par)**"
   ]
  },
  {
   "cell_type": "code",
   "execution_count": 23,
   "metadata": {},
   "outputs": [
    {
     "name": "stdout",
     "output_type": "stream",
     "text": [
      "              Multiple Comparison of Means - Tukey HSD, FWER=0.05              \n",
      "===============================================================================\n",
      "       group1              group2       meandiff p-adj   lower    upper  reject\n",
      "-------------------------------------------------------------------------------\n",
      "   Bens_industriais     Consumo_ciclico   1.0014 0.9994  -5.9656  7.9685  False\n",
      "   Bens_industriais Consumo_nao_ciclico   3.1478 0.8008  -3.7054  10.001  False\n",
      "   Bens_industriais Financeiro_e_outros   8.2199 0.0077   1.4645 14.9754   True\n",
      "   Bens_industriais        Mats_basicos   9.6527 0.0015   2.6857 16.6198   True\n",
      "   Bens_industriais               Saude   1.8968 0.9909  -6.1201  9.9136  False\n",
      "   Bens_industriais   Utilidade_publica   5.9819 0.1391  -0.9851  12.949  False\n",
      "    Consumo_ciclico Consumo_nao_ciclico   2.1464 0.9299  -3.8686  8.1614  False\n",
      "    Consumo_ciclico Financeiro_e_outros   7.2185 0.0073   1.3152 13.1218   True\n",
      "    Consumo_ciclico        Mats_basicos   8.6513 0.0012    2.507 14.7957   True\n",
      "    Consumo_ciclico               Saude   0.8953 0.9998  -6.4179  8.2086  False\n",
      "    Consumo_ciclico   Utilidade_publica   4.9805 0.1887  -1.1639 11.1249  False\n",
      "Consumo_nao_ciclico Financeiro_e_outros   5.0721 0.1211  -0.6964 10.8407  False\n",
      "Consumo_nao_ciclico        Mats_basicos   6.5049 0.0257   0.4899 12.5199   True\n",
      "Consumo_nao_ciclico               Saude  -1.2511 0.9983   -8.456  5.9539  False\n",
      "Consumo_nao_ciclico   Utilidade_publica   2.8341 0.7813  -3.1809  8.8491  False\n",
      "Financeiro_e_outros        Mats_basicos   1.4328 0.9895  -4.4705  7.3361  False\n",
      "Financeiro_e_outros               Saude  -6.3232 0.1133 -13.4351  0.7888  False\n",
      "Financeiro_e_outros   Utilidade_publica   -2.238 0.9084  -8.1413  3.6653  False\n",
      "       Mats_basicos               Saude   -7.756 0.0307 -15.0693 -0.4427   True\n",
      "       Mats_basicos   Utilidade_publica  -3.6708 0.5408  -9.8152  2.4736  False\n",
      "              Saude   Utilidade_publica   4.0852 0.6183  -3.2281 11.3984  False\n",
      "-------------------------------------------------------------------------------\n"
     ]
    }
   ],
   "source": [
    "tukey = pairwise_tukeyhsd(endog=dados_setor_DY_sem_petroleo['DY_%'],\n",
    "                          groups=dados_setor_DY_sem_petroleo['Setor'],\n",
    "                          alpha=0.05)\n",
    "print(tukey)"
   ]
  },
  {
   "cell_type": "markdown",
   "metadata": {},
   "source": [
    "**Bens_industriais vs Consumo_ciclico:**  \n",
    "Não há diferença significativa entre as médias de DY desses setores (p > 0.05).\n",
    "\n",
    "**Bens_industriais vs Consumo_nao_ciclico:**  \n",
    "Não há diferença significativa entre as médias de DY desses setores (p > 0.05).\n",
    "\n",
    "**Bens_industriais vs Financeiro_e_outros:**  \n",
    "Há uma diferença significativa entre as médias de DY desses setores (p < 0.05).\n",
    "\n",
    "**Bens_industriais vs Mats_basicos:**  \n",
    "Há uma diferença significativa entre as médias de DY desses setores (p < 0.05).\n",
    "\n",
    "**Bens_industriais vs Saude:**  \n",
    "Não há diferença significativa entre as médias de DY desses setores (p > 0.05).\n",
    "\n",
    "**Bens_industriais vs Utilidade_publica:**  \n",
    "Não há diferença significativa entre as médias de DY desses setores (p > 0.05).\n",
    "\n",
    "**Consumo_ciclico vs Consumo_nao_ciclico:**  \n",
    "Não há diferença significativa entre as médias de DY desses setores (p > 0.05).\n",
    "\n",
    "**Consumo_ciclico vs Financeiro_e_outros:**  \n",
    "Há uma diferença significativa entre as médias de DY desses setores (p < 0.05).\n",
    "\n",
    "**Consumo_ciclico vs Mats_basicos:**  \n",
    "Não há diferença significativa entre as médias de DY desses setores (p > 0.05).\n",
    "\n",
    "**Consumo_ciclico vs Saude:**  \n",
    "Não há diferença significativa entre as médias de DY desses setores (p > 0.05).\n",
    "\n",
    "**Consumo_ciclico vs Utilidade_publica:**  \n",
    "Não há diferença significativa entre as médias de DY desses setores (p > 0.05).\n",
    "\n",
    "**Consumo_nao_ciclico vs Financeiro_e_outros:**  \n",
    "Há uma diferença significativa entre as médias de DY desses setores (p < 0.05).\n",
    "\n",
    "**Consumo_nao_ciclico vs Mats_basicos:**  \n",
    "Não há diferença significativa entre as médias de DY desses setores (p > 0.05).\n",
    "\n",
    "**Consumo_nao_ciclico vs Saude:**  \n",
    "Não há diferença significativa entre as médias de DY desses setores (p > 0.05).\n",
    "\n",
    "**Consumo_nao_ciclico vs Utilidade_publica:**  \n",
    "Não há diferença significativa entre as médias de DY desses setores (p > 0.05).\n",
    "\n",
    "**Financeiro_e_outros vs Mats_basicos:**  \n",
    "Não há diferença significativa entre as médias de DY desses setores (p > 0.05).\n",
    "\n",
    "**Financeiro_e_outros vs Saude:**  \n",
    "Há uma diferença significativa entre as médias de DY desses setores (p < 0.05).\n",
    "\n",
    "**Financeiro_e_outros vs Utilidade_publica:**  \n",
    "Há uma diferença significativa entre as médias de DY desses setores (p < 0.05).\n",
    "\n",
    "**Mats_basicos vs Saude:**  \n",
    "Há uma diferença significativa entre as médias de DY desses setores (p < 0.05).\n",
    "\n",
    "**Mats_basicos vs Utilidade_publica:**  \n",
    "Não há diferença significativa entre as médias de DY desses setores (p > 0.05).\n",
    "\n",
    "**Saude vs Utilidade_publica:**  \n",
    "Não há diferença significativa entre as médias de DY desses setores (p > 0.05)."
   ]
  }
 ],
 "metadata": {
  "colab": {
   "collapsed_sections": [
    "BgcoTek2PCOI",
    "q5z6lRZ0q9Hr",
    "4_qm3ViQVrZ5",
    "-Phx_f-rpID6",
    "RfvzJW6-pH8h"
   ],
   "provenance": []
  },
  "kernelspec": {
   "display_name": "Python 3 (ipykernel)",
   "language": "python",
   "name": "python3"
  },
  "language_info": {
   "codemirror_mode": {
    "name": "ipython",
    "version": 3
   },
   "file_extension": ".py",
   "mimetype": "text/x-python",
   "name": "python",
   "nbconvert_exporter": "python",
   "pygments_lexer": "ipython3",
   "version": "3.12.3"
  }
 },
 "nbformat": 4,
 "nbformat_minor": 4
}
