











import pandas as pd
import yfinance as yf
from scipy import stats
import plotly.graph_objects as go
from statsmodels.stats.multicomp import pairwise_tukeyhsd





ativos_setor_IBOV = {
    "AZUL4": "Bens_industriais", "CCRO3": "Bens_industriais", "ECOR3": "Bens_industriais", "EMBR3": "Bens_industriais", "GOLL4": "Bens_industriais", "RAIL3": "Bens_industriais", "WEGE3": "Bens_industriais",
    "ALPA4": "Consumo_ciclico", "ARZZ3": "Consumo_ciclico", "CVCB3": "Consumo_ciclico", "CYRE3": "Consumo_ciclico", "EZTC3": "Consumo_ciclico", "LREN3": "Consumo_ciclico", "MGLU3": "Consumo_ciclico",
    "MRVE3": "Consumo_ciclico", "PETZ3": "Consumo_ciclico", "SOMA3": "Consumo_ciclico", "AMER3": "Consumo_ciclico", "ABEV3": "Consumo_nao_ciclico", "ASAI3": "Consumo_nao_ciclico", "BEEF3": "Consumo_nao_ciclico",
    "BRFS3": "Consumo_nao_ciclico", "CRFB3": "Consumo_nao_ciclico", "JBSS3": "Consumo_nao_ciclico", "MRFG3": "Consumo_nao_ciclico", "NTCO3": "Consumo_nao_ciclico", "PCAR3": "Consumo_nao_ciclico",
    "RAIZ4": "Consumo_nao_ciclico", "SLCE3": "Consumo_nao_ciclico", "SMTO3": "Consumo_nao_ciclico", "BBSE3": "Financeiro_e_outros", "B3SA3": "Financeiro_e_outros", "BBAS3": "Financeiro_e_outros",
    "BBDC3": "Financeiro_e_outros", "BBDC4": "Financeiro_e_outros", "BPAC11": "Financeiro_e_outros", "BPAN4": "Financeiro_e_outros", "CIEL3": "Financeiro_e_outros", "IGTI11": "Financeiro_e_outros",
    "ITSA4": "Financeiro_e_outros", "ITUB4": "Financeiro_e_outros", "MULT3": "Financeiro_e_outros", "SANB11": "Financeiro_e_outros", "BRAP4": "Mats_basicos", "BRKM5": "Mats_basicos", "CMIN3": "Mats_basicos",
    "CSNA3": "Mats_basicos", "DXCO3": "Mats_basicos", "GGBR4": "Mats_basicos", "GOAU4": "Mats_basicos", "KLBN11": "Mats_basicos", "SUZB3": "Mats_basicos", "USIM5": "Mats_basicos", "VALE3": "Mats_basicos",
    "CSAN3": "Petroleo_gas_biocombustiveis", "PETR3": "Petroleo_gas_biocombustiveis", "PETR4": "Petroleo_gas_biocombustiveis", "PRIO3": "Petroleo_gas_biocombustiveis", "RRRP3": "Petroleo_gas_biocombustiveis",
    "UGPA3": "Petroleo_gas_biocombustiveis", "VBBR3": "Petroleo_gas_biocombustiveis", "FLRY3": "Saude", "HAPV3": "Saude", "HYPE3": "Saude", "QUAL3": "Saude", "RADL3": "Saude", "RDOR3": "Saude", "CMIG4": "Utilidade_publica",
    "CPFE3": "Utilidade_publica", "CPLE6": "Utilidade_publica", "EGIE3": "Utilidade_publica", "ELET3": "Utilidade_publica", "ELET6": "Utilidade_publica", "ENEV3": "Utilidade_publica", "ENGI11": "Utilidade_publica",
    "EQTL3": "Utilidade_publica", "SBSP3": "Utilidade_publica", "TAEE11": "Utilidade_publica"
}


lista_ativos = list(ativos_setor_IBOV.keys())
lista_ativos_yf = [lista_ativos + '.SA' for lista_ativos in lista_ativos]


df_dados = yf.download(lista_ativos_yf, actions=True, start='2023-01-01', end='2024-07-31')[['Close', 'Dividends']]


df_dados





soma_dividendos = df_dados['Dividends'].sum()
soma_dividendos





close_ativo = df_dados['Close'].iloc[-1]
close_ativo





tabela_DY_2022 = pd.DataFrame(soma_dividendos/close_ativo*100, columns=['DY_%'])
tabela_DY_2022.sort_index()





df_ativos_setor = pd.DataFrame(data=ativos_setor_IBOV.items(), index=ativos_setor_IBOV.keys(), columns=['Ativo', 'Setor']).drop('Ativo', axis=1)
df_ativos_setor = df_ativos_setor.sort_index()
df_ativos_setor





nome_corrigido = dict(zip(lista_ativos_yf, lista_ativos))
print(nome_corrigido)





tabela_DY_2022.rename(nome_corrigido, axis=0, inplace=True)
dados_setor_DY = pd.concat([df_ativos_setor, tabela_DY_2022], axis=1)
dados_setor_DY











dados_setor_DY





pd.pivot_table(dados_setor_DY, values=['DY_%'], index=['Setor'], aggfunc=['mean','std'])


tab_dinamica = pd.pivot_table(dados_setor_DY, values=['DY_%'], index=['Setor'], aggfunc=['mean','std']).droplevel(1, axis=1)
tab_dinamica


fig = go.Figure()

fig.add_trace(go.Bar(name='Média e Desvio', x=tab_dinamica.index, y=tab_dinamica['mean'],
      error_y=dict(type='data', array=tab_dinamica['std']),
      marker_color='#98ac4a', orientation='v'))

fig.update_layout(title_text='<b>Dividend Yield (média \xB1 desvio padrão da média) <br> entre os setores do IBOV', xaxis_title= '<b>Setores IBOV',
      yaxis_title= '<b>Dividend Yield (%)', template="none", margin=dict(l=75, r=20, t=75, b=75),
      paper_bgcolor="#f7f8fa", font=dict(family="Arial", size=12, color="black"), width=1200, height=600)

fig.show()








# dados_grupos = dados_setor_DY.groupby('Setor')['DY_%']
# dados_**Bens_industriais = dados_grupos.get_group("**Bens_industriais")
# dados_**Consumo_ciclico = dados_grupos.get_group("**Consumo_ciclico")
# dados_**Consumo_nao_ciclico = dados_grupos.get_group("**Consumo_nao_ciclico")
# dados_**Financeiro_e_outros = dados_grupos.get_group("**Financeiro_e_outros")
# dados_**Mats_basicos = dados_grupos.get_group("**Mats_basicos")
# dados_Petroleo_gas_biocombustiveis = dados_grupos.get_group("Petroleo_gas_biocombustiveis")
# dados_Saude = dados_grupos.get_group("Saude")
# dados_Utilidade_publica = dados_grupos.get_group("Utilidade_publica")





values_per_group = [col.dropna() for col_name, col in dados_setor_DY.groupby('Setor')['DY_%']]








levene_test = stats.levene(*values_per_group)
print(f"Teste de Levene: estatística={levene_test.statistic}, p-valor={levene_test.pvalue}")





variancia_grupos = dados_setor_DY.groupby('Setor').var()
print(variancia_grupos)





dados_setor_DY_sem_petroleo = dados_setor_DY[dados_setor_DY.Setor != 'Petroleo_gas_biocombustiveis']
values_per_group_sem_petroleo = [col.dropna() for col_name, col in dados_setor_DY_sem_petroleo.groupby('Setor')['DY_%']]






levene_test_sem_petroleo = stats.levene(*values_per_group_sem_petroleo)
print(f"Teste de Levene sem 'Petroleo_gas_biocombustiveis': estatística={levene_test_sem_petroleo.statistic}, p-valor={levene_test_sem_petroleo.pvalue}")






anova_result = stats.f_oneway(*values_per_group_sem_petroleo)
print(f"Resultado da ANOVA: estatística F={anova_result.statistic}, p-valor={anova_result.pvalue}")






tukey = pairwise_tukeyhsd(endog=dados_setor_DY_sem_petroleo['DY_%'],
                          groups=dados_setor_DY_sem_petroleo['Setor'],
                          alpha=0.05)
print(tukey)



